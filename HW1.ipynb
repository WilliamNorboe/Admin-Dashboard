{
  "nbformat": 4,
  "nbformat_minor": 0,
  "metadata": {
    "colab": {
      "provenance": [],
      "authorship_tag": "ABX9TyMqEsHNxEPfdQI/eUqCmiK9",
      "include_colab_link": true
    },
    "kernelspec": {
      "name": "ir",
      "display_name": "R"
    },
    "language_info": {
      "name": "R"
    }
  },
  "cells": [
    {
      "cell_type": "markdown",
      "metadata": {
        "id": "view-in-github",
        "colab_type": "text"
      },
      "source": [
        "<a href=\"https://colab.research.google.com/github/WilliamNorboe/Admin-Dashboard/blob/main/HW1.ipynb\" target=\"_parent\"><img src=\"https://colab.research.google.com/assets/colab-badge.svg\" alt=\"Open In Colab\"/></a>"
      ]
    },
    {
      "cell_type": "markdown",
      "source": [
        "# Problem 1"
      ],
      "metadata": {
        "id": "_XNbdiJIKdn9"
      }
    },
    {
      "cell_type": "markdown",
      "source": [
        "Only the Bottom left 9 nodes matter.\n",
        "\n",
        "I know that there needs to be 4 steps. North needs to be chosen twice. Thus the number of ways to choose north is.\n",
        "\n",
        "\n",
        " $${{4}\\choose{2}} = \\frac{4!}{2!2!}= \\frac{12}{2}=6 $$\n",
        "\n",
        "Thus there are 6 different paths to get from A to C.\n"
      ],
      "metadata": {
        "id": "HJEMj5kifYql"
      }
    },
    {
      "cell_type": "markdown",
      "source": [
        "# Problem 2"
      ],
      "metadata": {
        "id": "XY2ljtq1M2ro"
      }
    },
    {
      "cell_type": "markdown",
      "source": [
        "Since there are 5 memory blocks either occupied or not there are $2^5 = 32$ possibilities.\n",
        "\n",
        "1.\n",
        "There are two possibilities that need to be removed. The one that all are occupied and the one that none are. $32-2 =30$ thus\n",
        "\n",
        "$$ \\frac{30}{32} = 0.9375 $$\n",
        "\n",
        "$$P(A) = 0.9375$$\n",
        "The probability that at least one but no more than four memory blocks are occupied is 93.75%\n",
        "\n",
        "2.\n",
        "Similar to the previous problem except only one instance needs to be removed which is the one where they are all empty. $32-1 =31$ thus\n",
        "\n",
        "$$ \\frac{31}{32} = 0.96875 $$\n",
        "\n",
        "$$P(A) = 0.96875$$\n",
        "The probability that at least one memory blocks is occupied is 96.875%"
      ],
      "metadata": {
        "id": "oe7oY-u7M8HQ"
      }
    },
    {
      "cell_type": "markdown",
      "source": [
        "# Problem 3"
      ],
      "metadata": {
        "id": "gNQpxIHn9fqD"
      }
    },
    {
      "cell_type": "markdown",
      "source": [],
      "metadata": {
        "id": "XviEIVxZ9icp"
      }
    }
  ]
}